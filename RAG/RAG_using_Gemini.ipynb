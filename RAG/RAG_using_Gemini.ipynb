{
  "nbformat": 4,
  "nbformat_minor": 0,
  "metadata": {
    "colab": {
      "provenance": [],
      "toc_visible": true
    },
    "kernelspec": {
      "name": "python3",
      "display_name": "Python 3"
    },
    "language_info": {
      "name": "python"
    }
  },
  "cells": [
    {
      "cell_type": "markdown",
      "source": [
        "### Downloading the required libraries"
      ],
      "metadata": {
        "id": "QhlxGaHB0GKU"
      }
    },
    {
      "cell_type": "code",
      "execution_count": 1,
      "metadata": {
        "colab": {
          "base_uri": "https://localhost:8080/"
        },
        "id": "wzcWr3bVwxFB",
        "outputId": "6575a237-e32a-48c6-e8dd-c65afd110d99"
      },
      "outputs": [
        {
          "output_type": "stream",
          "name": "stdout",
          "text": [
            "\u001b[?25l   \u001b[90m━━━━━━━━━━━━━━━━━━━━━━━━━━━━━━━━━━━━━━━━\u001b[0m \u001b[32m0.0/160.8 kB\u001b[0m \u001b[31m?\u001b[0m eta \u001b[36m-:--:--\u001b[0m\r\u001b[2K   \u001b[90m━━━━━━━━━━━━━━━━━━━━━━━━━━━━━━━━━━━━━━━━\u001b[0m \u001b[32m160.8/160.8 kB\u001b[0m \u001b[31m5.7 MB/s\u001b[0m eta \u001b[36m0:00:00\u001b[0m\n",
            "\u001b[?25h\u001b[?25l   \u001b[90m━━━━━━━━━━━━━━━━━━━━━━━━━━━━━━━━━━━━━━━━\u001b[0m \u001b[32m0.0/760.0 kB\u001b[0m \u001b[31m?\u001b[0m eta \u001b[36m-:--:--\u001b[0m\r\u001b[2K   \u001b[90m━━━━━━━━━━━━━━━━━━━━━━━━━━━━━━━━━━━━━━━━\u001b[0m \u001b[32m760.0/760.0 kB\u001b[0m \u001b[31m24.8 MB/s\u001b[0m eta \u001b[36m0:00:00\u001b[0m\n",
            "\u001b[?25h"
          ]
        }
      ],
      "source": [
        "!pip install -q -U google-generativeai"
      ]
    },
    {
      "cell_type": "markdown",
      "source": [
        "### Importing the required Library and List of gemini-model"
      ],
      "metadata": {
        "id": "YBUWvYMn0NDg"
      }
    },
    {
      "cell_type": "code",
      "source": [
        "import google.generativeai as genai\n",
        "genai.configure(api_key='GOOGLE_API_KEY')\n",
        "for m in genai.list_models():\n",
        "  if 'generateContent' in m.supported_generation_methods:\n",
        "    print(m.name)"
      ],
      "metadata": {
        "colab": {
          "base_uri": "https://localhost:8080/",
          "height": 408
        },
        "id": "8Ct9tzhRxLDY",
        "outputId": "04a2eac0-2c85-4b82-bc7c-77d97705da16"
      },
      "execution_count": 3,
      "outputs": [
        {
          "output_type": "stream",
          "name": "stdout",
          "text": [
            "models/gemini-1.0-pro-latest\n",
            "models/gemini-1.0-pro\n",
            "models/gemini-pro\n",
            "models/gemini-1.0-pro-001\n",
            "models/gemini-1.0-pro-vision-latest\n",
            "models/gemini-pro-vision\n",
            "models/gemini-1.5-pro-latest\n",
            "models/gemini-1.5-pro-001\n",
            "models/gemini-1.5-pro-002\n",
            "models/gemini-1.5-pro\n",
            "models/gemini-1.5-pro-exp-0801\n",
            "models/gemini-1.5-pro-exp-0827\n",
            "models/gemini-1.5-flash-latest\n",
            "models/gemini-1.5-flash-001\n",
            "models/gemini-1.5-flash-001-tuning\n",
            "models/gemini-1.5-flash\n",
            "models/gemini-1.5-flash-exp-0827\n",
            "models/gemini-1.5-flash-002\n",
            "models/gemini-1.5-flash-8b\n",
            "models/gemini-1.5-flash-8b-001\n",
            "models/gemini-1.5-flash-8b-latest\n",
            "models/gemini-1.5-flash-8b-exp-0827\n",
            "models/gemini-1.5-flash-8b-exp-0924\n"
          ]
        }
      ]
    },
    {
      "cell_type": "markdown",
      "source": [
        "### parameters and Safety settings for model\n",
        "#### The mime_type helps software or systems understand how to handle a file\n",
        "#####Examples of Common MIME Types:\n",
        "###### Image Files:\n",
        "- \"image/png\": PNG image.\n",
        "- \"image/jpeg\": JPEG image.\n",
        "- \"image/gif\": GIF image.\n",
        "\n",
        "###### Text Files:\n",
        "- \"text/plain\": Plain text file.\n",
        "- \"text/html\": HTML file.\n",
        "- \"text/csv\": CSV file.\n",
        "\n",
        "###### Application Files:\n",
        "- \"application/pdf\": PDF document.\n",
        "- \"application/json\": JSON data.\n",
        "- \"application/zip\": ZIP file.\n",
        "- \"application/octet-stream\": Generic binary file, often used when the file type is unknown."
      ],
      "metadata": {
        "id": "Qa2PRvKx0cGh"
      }
    },
    {
      "cell_type": "code",
      "source": [
        "MODEL_CONFIG = {\n",
        "  \"temperature\": 0.2,\n",
        "  \"top_p\": 1,\n",
        "  \"top_k\": 32,\n",
        "  \"max_output_tokens\": 4096,\n",
        "}\n",
        "\n",
        "## Safety Settings of Model\n",
        "safety_settings = [\n",
        "  {\n",
        "    \"category\": \"HARM_CATEGORY_HARASSMENT\",\n",
        "    \"threshold\": \"BLOCK_MEDIUM_AND_ABOVE\"\n",
        "  },\n",
        "  {\n",
        "    \"category\": \"HARM_CATEGORY_HATE_SPEECH\",\n",
        "    \"threshold\": \"BLOCK_MEDIUM_AND_ABOVE\"\n",
        "  },\n",
        "  {\n",
        "    \"category\": \"HARM_CATEGORY_SEXUALLY_EXPLICIT\",\n",
        "    \"threshold\": \"BLOCK_MEDIUM_AND_ABOVE\"\n",
        "  },\n",
        "  {\n",
        "    \"category\": \"HARM_CATEGORY_DANGEROUS_CONTENT\",\n",
        "    \"threshold\": \"BLOCK_MEDIUM_AND_ABOVE\"\n",
        "  }\n",
        "]\n",
        "model = genai.GenerativeModel(model_name = \"models/gemini-1.5-flash\",\n",
        "                              generation_config = MODEL_CONFIG,\n",
        "                              safety_settings = safety_settings)\n",
        "\n",
        "from pathlib import Path\n",
        "\n",
        "def file_format(image_path):\n",
        "    file = Path(image_path)\n",
        "\n",
        "    if not file.exists():\n",
        "        raise FileNotFoundError(f\"Could not find image: {img}\")\n",
        "\n",
        "    file_parts = [\n",
        "        {\n",
        "            \"mime_type\": \"application/pdf\",\n",
        "            \"data\": file.read_bytes()\n",
        "        }\n",
        "    ]\n",
        "    return file_parts\n",
        "def gemini_output(image_path, system_prompt, user_prompt):\n",
        "\n",
        "    image_info = file_format(image_path)\n",
        "    input_prompt= [system_prompt, image_info[0], user_prompt]\n",
        "    response = model.generate_content(input_prompt)\n",
        "    return response.text"
      ],
      "metadata": {
        "id": "alrfkdfYxLFw"
      },
      "execution_count": 4,
      "outputs": []
    },
    {
      "cell_type": "markdown",
      "source": [
        "### Query=[prompt]+[context]"
      ],
      "metadata": {
        "id": "6Ia7Zj4fCHiz"
      }
    },
    {
      "cell_type": "code",
      "source": [
        "system_prompt = \"\"\"\n",
        "               You are a specialist in comprehending receipts.\n",
        "               Input pdf in the form of receipts will be provided to you,\n",
        "               and your task is to respond to questions based on the content of the input pdf.\n",
        "               \"\"\"\n",
        "\n",
        "image_path = \"path/resume.pdf\"\n",
        "user_prompt = \"Extract the Name and Techinical Skills from the resume provided in Json format\"\n",
        "\n",
        "output = gemini_output(image_path, system_prompt, user_prompt)\n"
      ],
      "metadata": {
        "id": "DTlu9dEWxLH9"
      },
      "execution_count": null,
      "outputs": []
    },
    {
      "cell_type": "markdown",
      "source": [
        "### Output"
      ],
      "metadata": {
        "id": "B0rSkHHjCc6L"
      }
    },
    {
      "cell_type": "code",
      "source": [
        "from IPython.display import Markdown\n",
        "Markdown(output)"
      ],
      "metadata": {
        "id": "h79wKVYLxLKT"
      },
      "execution_count": null,
      "outputs": []
    }
  ]
}