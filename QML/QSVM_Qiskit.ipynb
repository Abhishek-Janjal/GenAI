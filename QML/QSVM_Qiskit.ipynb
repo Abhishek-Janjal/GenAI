{
 "cells": [
  {
   "cell_type": "markdown",
   "metadata": {
    "id": "P-V5oWFRfZ20"
   },
   "source": [
    "## Importing Reaquired Modules"
   ]
  },
  {
   "cell_type": "code",
   "execution_count": null,
   "metadata": {
    "id": "Dd0q0j-DfZ21"
   },
   "outputs": [],
   "source": [
    "import matplotlib.pyplot as plt\n",
    "import numpy as np\n",
    "from qiskit import Aer\n",
    "from qiskit.ml.datasets import ad_hoc_data, sample_ad_hoc_data, breast_cancer\n",
    "from qiskit.circuit.library import ZZFeatureMap\n",
    "from qiskit.aqua.utils import split_dataset_to_data_and_labels, map_label_to_class_name\n",
    "from qiskit.aqua import QuantumInstance\n",
    "from qiskit.aqua.algorithms import QSVM"
   ]
  },
  {
   "cell_type": "markdown",
   "metadata": {
    "id": "XKS4mvGYfZ22"
   },
   "source": [
    "## Loading and Visualising Data"
   ]
  },
  {
   "cell_type": "code",
   "execution_count": null,
   "metadata": {
    "id": "5lJnU6ZofZ22",
    "outputId": "011a0e1b-2237-40ee-b1f3-f78c6c54f680"
   },
   "outputs": [
    {
     "data": {
      "image/png": "[encoded data removed]",
      "text/plain": [
       "<Figure size 432x288 with 1 Axes>"
      ]
     },
     "metadata": {
      "needs_background": "light"
     },
     "output_type": "display_data"
    }
   ],
   "source": [
    "feature_dim = 2    # Number of input features\n",
    "sample_total, train_data, test_data, labels = ad_hoc_data(training_size=20, test_size=10,\n",
    "                                                         n=feature_dim, gap=0.3, plot_data=True)"
   ]
  },
  {
   "cell_type": "markdown",
   "metadata": {
    "id": "GsCSXQEwfZ23"
   },
   "source": [
    "## Loading Sample Data\n",
    "We need to do this in order to understand how many classes are there in the dataset. Further, it also helps us understand the labels for each of the classes in the dataset."
   ]
  },
  {
   "cell_type": "code",
   "execution_count": null,
   "metadata": {
    "id": "7nW79otZfZ23",
    "outputId": "f5a92818-6606-4b52-9939-436bdaf6df3a"
   },
   "outputs": [
    {
     "name": "stdout",
     "output_type": "stream",
     "text": [
      "Classes and corresponding labels are:\n",
      "Class: A, Label: 0\n",
      "Class: B, Label: 1\n"
     ]
    }
   ],
   "source": [
    "sample_test_data = sample_ad_hoc_data(sample_total, 10, n=feature_dim)\n",
    "data_pts, class2label = split_dataset_to_data_and_labels(sample_test_data)\n",
    "print(\"Classes and corresponding labels are:\")\n",
    "for c in class2label:\n",
    "    print(f\"Class: {c}, Label: {class2label[c]}\")"
   ]
  },
  {
   "cell_type": "markdown",
   "metadata": {
    "id": "fAL7iiPyfZ23"
   },
   "source": [
    "## Creating Feature Map and Model"
   ]
  },
  {
   "cell_type": "code",
   "execution_count": null,
   "metadata": {
    "id": "zLDuz2DLfZ23"
   },
   "outputs": [],
   "source": [
    "seed = 10598  # Setting seed to ensure reproducable results\n",
    "\n",
    "feature_map = ZZFeatureMap(feature_dimension=feature_dim, reps=2, entanglement='linear')\n",
    "qsvm = QSVM(feature_map, train_data, test_data, data_pts[0])"
   ]
  },
  {
   "cell_type": "markdown",
   "metadata": {
    "id": "lF4R4L8_fZ23"
   },
   "source": [
    "## Initailizing Backend and Invoking Model"
   ]
  },
  {
   "cell_type": "code",
   "execution_count": null,
   "metadata": {
    "id": "mWoQF4d5fZ23"
   },
   "outputs": [],
   "source": [
    "backend = Aer.get_backend('qasm_simulator')\n",
    "quantum_instance = QuantumInstance(backend, shots=1024, seed_simulator=seed, seed_transpiler=seed)"
   ]
  },
  {
   "cell_type": "markdown",
   "metadata": {
    "id": "F14I3KTtfZ24"
   },
   "source": [
    "## Collecting and Displaying Results"
   ]
  },
  {
   "cell_type": "code",
   "execution_count": null,
   "metadata": {
    "id": "OB6eC6drfZ24",
    "outputId": "9a965387-b1a5-40d6-9fcd-2e984150db30"
   },
   "outputs": [
    {
     "name": "stdout",
     "output_type": "stream",
     "text": [
      "Testing Accuracy: 100.0%\n",
      "Prediction on Datapoints:\n",
      "Ground Truth: ['A', 'A', 'A', 'A', 'A', 'A', 'A', 'A', 'A', 'A', 'B', 'B', 'B', 'B', 'B', 'B', 'B', 'B', 'B', 'B']\n",
      "Predictions:  ['A', 'A', 'A', 'A', 'A', 'A', 'A', 'A', 'A', 'A', 'B', 'B', 'B', 'B', 'B', 'B', 'B', 'B', 'B', 'B']\n"
     ]
    }
   ],
   "source": [
    "result = qsvm.run(quantum_instance)\n",
    "\n",
    "print(f\"Testing Accuracy: {result['testing_accuracy'] * 100}%\")\n",
    "print(\"Prediction on Datapoints:\")\n",
    "print(f\"Ground Truth: {map_label_to_class_name(data_pts[1], qsvm.label_to_class)}\")\n",
    "print(f\"Predictions:  {result['predicted_classes']}\")"
   ]
  },
  {
   "cell_type": "markdown",
   "metadata": {
    "id": "lVDktxRHfZ24"
   },
   "source": [
    "## Displaying Feature Mapping Kernel\n",
    "The collection of inner products between linear mappings of data points, onto the mapping space is called the kernel."
   ]
  },
  {
   "cell_type": "code",
   "execution_count": null,
   "metadata": {
    "id": "ocQ1t0vOfZ24",
    "outputId": "4859aaeb-9758-47ca-ecce-4ce67894e81b"
   },
   "outputs": [
    {
     "name": "stdout",
     "output_type": "stream",
     "text": [
      "Trained Kernel Matrix:\n"
     ]
    },
    {
     "data": {
      "image/png": "[encoded data removed]",
      "text/plain": [
       "<Figure size 432x288 with 1 Axes>"
      ]
     },
     "metadata": {
      "needs_background": "light"
     },
     "output_type": "display_data"
    }
   ],
   "source": [
    "print(\"Trained Kernel Matrix:\")\n",
    "kernel_matrix = result['kernel_matrix_training']\n",
    "img = plt.imshow(np.asmatrix(kernel_matrix),interpolation='nearest',origin='upper',cmap='bone_r')\n",
    "plt.show()"
   ]
  }
 ],
 "metadata": {
  "colab": {
   "provenance": []
  },
  "kernelspec": {
   "display_name": "Python 3 (ipykernel)",
   "language": "python",
   "name": "python3"
  },
  "language_info": {
   "codemirror_mode": {
    "name": "ipython",
    "version": 3
   },
   "file_extension": ".py",
   "mimetype": "text/x-python",
   "name": "python",
   "nbconvert_exporter": "python",
   "pygments_lexer": "ipython3",
   "version": "3.12.2"
  }
 },
 "nbformat": 4,
 "nbformat_minor": 4
}
